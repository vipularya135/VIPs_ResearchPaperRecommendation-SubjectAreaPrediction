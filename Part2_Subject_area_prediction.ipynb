{
  "nbformat": 4,
  "nbformat_minor": 0,
  "metadata": {
    "colab": {
      "provenance": []
    },
    "kernelspec": {
      "name": "python3",
      "display_name": "Python 3"
    },
    "language_info": {
      "name": "python"
    }
  },
  "cells": [
    {
      "cell_type": "code",
      "execution_count": null,
      "metadata": {
        "colab": {
          "base_uri": "https://localhost:8080/"
        },
        "id": "HRhOwf21tZD0",
        "outputId": "6b973f9a-25fd-440f-c2a4-a99eba845d13"
      },
      "outputs": [
        {
          "output_type": "stream",
          "name": "stdout",
          "text": [
            "Drive already mounted at /content/drive; to attempt to forcibly remount, call drive.mount(\"/content/drive\", force_remount=True).\n"
          ]
        }
      ],
      "source": [
        "# Mount the drive\n",
        "\n",
        "from google.colab import drive\n",
        "drive.mount('/content/drive')\n"
      ]
    },
    {
      "cell_type": "code",
      "source": [
        "#Imports\n",
        "from tensorflow.keras import layers  # Importing specific layers from Keras for building the model\n",
        "from tensorflow.keras.models import Sequential, load_model  # Importing Sequential model and load_model function\n",
        "from tensorflow.keras.callbacks import EarlyStopping  # Importing EarlyStopping callback for early stopping during training\n",
        "from tensorflow.keras.preprocessing.text import Tokenizer  # Importing Tokenizer for text preprocessing\n",
        "from tensorflow.keras.preprocessing.sequence import pad_sequences  # Importing pad_sequences for sequence padding\n",
        "from sklearn.preprocessing import MultiLabelBinarizer  # Importing MultiLabelBinarizer for multi-label binarization\n",
        "from sklearn.model_selection import train_test_split  # Importing train_test_split for splitting the dataset\n",
        "import matplotlib.pyplot as plt  # Importing matplotlib for plotting\n",
        "from ast import literal_eval  # Importing literal_eval to convert string labels to list of strings\n",
        "import pandas as pd  # Importing pandas for data manipulation"
      ],
      "metadata": {
        "id": "WkwarRqntkXD"
      },
      "execution_count": 1,
      "outputs": []
    },
    {
      "cell_type": "code",
      "source": [
        "# Load the dataset\n",
        "arxiv_data = pd.read_csv(\"/content/drive/MyDrive/IML-Recommender-Paper/arxiv_data.csv\")\n",
        "\n",
        "# Drop duplicate entries\n",
        "arxiv_data = arxiv_data[~arxiv_data[\"titles\"].duplicated()]\n",
        "\n",
        "# Convert string labels to list of strings\n",
        "arxiv_data[\"terms\"] = arxiv_data[\"terms\"].apply(lambda x: literal_eval(x))\n",
        "\n",
        "# Explode the \"terms\" column into individual rows\n",
        "arxiv_data_exploded = arxiv_data.explode(\"terms\")\n",
        "\n",
        "# Filter out rare terms based on occurrence count\n",
        "term_counts = arxiv_data_exploded[\"terms\"].value_counts()\n",
        "common_terms = term_counts[term_counts > 1].index\n",
        "arxiv_data_filtered = arxiv_data_exploded[arxiv_data_exploded[\"terms\"].isin(common_terms)]\n",
        "\n",
        "# Aggregate back if necessary\n",
        "arxiv_data_filtered = arxiv_data_filtered.groupby(arxiv_data_filtered.index).agg(list)\n"
      ],
      "metadata": {
        "id": "QUdtwOdcuWr_"
      },
      "execution_count": null,
      "outputs": []
    },
    {
      "cell_type": "code",
      "source": [
        "## Multi-label binarization\n",
        "\n",
        "# Initialize MultiLabelBinarizer\n",
        "mlb = MultiLabelBinarizer()\n",
        "# Fit and transform the multi-labels into binary form\n",
        "labels_binarized = mlb.fit_transform(arxiv_data_filtered[\"terms\"])\n"
      ],
      "metadata": {
        "id": "By6HiCGpuZX0"
      },
      "execution_count": null,
      "outputs": []
    },
    {
      "cell_type": "code",
      "source": [
        "## Data preprocessing\n",
        "\n",
        "# Tokenize the text data\n",
        "tokenizer = Tokenizer()\n",
        "# Fit tokenizer on the text data\n",
        "tokenizer.fit_on_texts(arxiv_data_filtered[\"summaries\"])\n",
        "\n",
        "# Pad sequences to ensure uniform length\n",
        "max_seq_length = 150\n",
        " # Convert text data to sequences\n",
        "sequences = tokenizer.texts_to_sequences(arxiv_data_filtered[\"summaries\"])\n",
        "# Pad sequences to maximum length\n",
        "padded_sequences = pad_sequences(sequences, maxlen=max_seq_length, padding='post')\n"
      ],
      "metadata": {
        "id": "7igGLoreucRp"
      },
      "execution_count": null,
      "outputs": []
    },
    {
      "cell_type": "code",
      "source": [
        "# Split dataset into training and testing sets\n",
        "X_train, X_test, y_train, y_test = train_test_split(padded_sequences, labels_binarized, test_size=0.2, random_state=42)\n"
      ],
      "metadata": {
        "id": "_fbxXSk1ES6G"
      },
      "execution_count": null,
      "outputs": []
    },
    {
      "cell_type": "code",
      "source": [
        "# Vocabulary size for embedding layer\n",
        "vocab_size = len(tokenizer.word_index) + 1"
      ],
      "metadata": {
        "id": "JtDyuUofEXIc"
      },
      "execution_count": null,
      "outputs": []
    },
    {
      "cell_type": "code",
      "source": [
        "## Create CNN model\n",
        "\n",
        "model = Sequential([\n",
        "    layers.Embedding(input_dim=vocab_size, output_dim=100, input_length=max_seq_length),  # Embedding layer\n",
        "    layers.Conv1D(128, 5, activation='relu'),  # Convolutional layer\n",
        "    layers.GlobalMaxPooling1D(),  # Global max pooling layer\n",
        "    layers.Dense(128, activation='relu'),  # Dense layer\n",
        "    layers.Dense(len(mlb.classes_), activation='sigmoid')  # Output layer with sigmoid activation for multi-label classification\n",
        "])\n",
        "\n",
        "model.compile(optimizer='adam', loss='binary_crossentropy', metrics=['accuracy'])\n"
      ],
      "metadata": {
        "id": "HouBuZbCufOZ"
      },
      "execution_count": null,
      "outputs": []
    },
    {
      "cell_type": "code",
      "source": [
        "## Train the model\n",
        "history = model.fit(X_train, y_train, epochs=20, validation_split=0.1, batch_size=64, callbacks=[EarlyStopping(patience=3)])\n",
        "\n",
        "## Evaluate the model\n",
        "loss, accuracy = model.evaluate(X_test, y_test)\n",
        "print(f'Test Accuracy: {accuracy * 100:.2f}%')\n"
      ],
      "metadata": {
        "colab": {
          "base_uri": "https://localhost:8080/"
        },
        "id": "Vj81SUilum6g",
        "outputId": "e7839eb6-81dd-40b1-94a8-90547cd15eaa"
      },
      "execution_count": null,
      "outputs": [
        {
          "output_type": "stream",
          "name": "stdout",
          "text": [
            "Epoch 1/20\n",
            "439/439 [==============================] - 8s 7ms/step - loss: 0.0430 - accuracy: 0.4611 - val_loss: 0.0132 - val_accuracy: 0.5475\n",
            "Epoch 2/20\n",
            "439/439 [==============================] - 3s 6ms/step - loss: 0.0122 - accuracy: 0.5750 - val_loss: 0.0131 - val_accuracy: 0.5465\n",
            "Epoch 3/20\n",
            "439/439 [==============================] - 4s 9ms/step - loss: 0.0096 - accuracy: 0.7146 - val_loss: 0.0147 - val_accuracy: 0.5430\n",
            "Epoch 4/20\n",
            "439/439 [==============================] - 5s 11ms/step - loss: 0.0082 - accuracy: 0.6830 - val_loss: 0.0148 - val_accuracy: 0.5475\n",
            "Epoch 5/20\n",
            "439/439 [==============================] - 4s 10ms/step - loss: 0.0068 - accuracy: 0.7105 - val_loss: 0.0161 - val_accuracy: 0.5462\n",
            "244/244 [==============================] - 1s 4ms/step - loss: 0.0160 - accuracy: 0.5450\n",
            "Test Accuracy: 54.50%\n"
          ]
        }
      ]
    },
    {
      "cell_type": "code",
      "source": [
        "## Plot training history\n",
        "plt.plot(history.history['accuracy'], label='accuracy')\n",
        "plt.plot(history.history['val_accuracy'], label='val_accuracy')\n",
        "plt.xlabel('Epoch')\n",
        "plt.ylabel('Accuracy')\n",
        "plt.legend(loc='lower right')\n",
        "plt.show()\n"
      ],
      "metadata": {
        "colab": {
          "base_uri": "https://localhost:8080/",
          "height": 449
        },
        "id": "NNyX9JMpGx7m",
        "outputId": "dcc56e1f-602f-490b-b549-72ed1f5c5313"
      },
      "execution_count": null,
      "outputs": [
        {
          "output_type": "display_data",
          "data": {
            "text/plain": [
              "<Figure size 640x480 with 1 Axes>"
            ],
            "image/png": "[encoded data removed]"
          },
          "metadata": {}
        }
      ]
    },
    {
      "cell_type": "code",
      "source": [
        "## Inference\n",
        "predicted_probabilities = model.predict(X_test)\n",
        "\n",
        "# Inverse transform the labels\n",
        "inverse_labels = mlb.inverse_transform(y_test)  #used to transform the binary representation of labels back into their original format.\n",
        "\n",
        "# Inverse transform the predicted labels\n",
        "predicted_labels = mlb.inverse_transform((predicted_probabilities > 0.5).astype(int))\n",
        "\n",
        "# Print sample predictions\n",
        "for i in range(5):\n",
        "    print(f\"True terms: {inverse_labels[i]}\")\n",
        "    print(f\"Predicted terms: {predicted_labels[i]}\")\n",
        "    print()\n"
      ],
      "metadata": {
        "id": "_D76nm6rG0-H"
      },
      "execution_count": null,
      "outputs": []
    },
    {
      "cell_type": "code",
      "source": [
        "# Save the model\n",
        "model.save('/content/drive/MyDrive/IML-Recommender-Paper/subject_area_prediction')\n"
      ],
      "metadata": {
        "id": "EiPlFIXkvnYP"
      },
      "execution_count": null,
      "outputs": []
    },
    {
      "cell_type": "code",
      "source": [
        "\n",
        "# Function to load the saved model\n",
        "def load_saved_model(model_path):\n",
        "    loaded_model = load_model(model_path)\n",
        "    return loaded_model\n",
        "\n",
        "# Load the saved model\n",
        "saved_model_path = '/content/drive/MyDrive/IML-Recommender-Paper/subject_area_prediction'\n",
        "loaded_model = load_saved_model(saved_model_path)"
      ],
      "metadata": {
        "id": "rqAzrkvvHMpD"
      },
      "execution_count": null,
      "outputs": []
    },
    {
      "cell_type": "code",
      "source": [
        "# Function to preprocess input abstract and predict subject area/domain using the loaded model\n",
        "def predict_subject_area_saved_model(abstract, loaded_model):\n",
        "    # Tokenize the input abstract\n",
        "    abstract_sequence = tokenizer.texts_to_sequences([abstract])\n",
        "    # Pad the sequence\n",
        "    padded_sequence = pad_sequences(abstract_sequence, maxlen=max_seq_length, padding='post')\n",
        "    # Predict subject area/domain\n",
        "    predicted_probabilities = loaded_model.predict(padded_sequence)\n",
        "    # Inverse transform the predicted labels\n",
        "    predicted_labels = mlb.inverse_transform((predicted_probabilities > 0.5).astype(int))\n",
        "    return predicted_labels[0]\n"
      ],
      "metadata": {
        "id": "ultaiixZHRco"
      },
      "execution_count": null,
      "outputs": []
    },
    {
      "cell_type": "code",
      "source": [
        "# Example usage with the loaded model\n",
        "input_abstract = \"Higher Education plays a principal role in the changing and complex world of today, and there has been rapid growth in the scientific literature dedicated to predicting students' academic success or risk of dropout thanks to advances in Data Mining techniques. Degrees such as Computer Science in particular are in ever greater demand. Although the number of students has increased, the number graduating is still not enough to provide society with as many as it requires. This study contributes to reversing this situation by introducing an approach that not only predicts the dropout risk or students' performance but takes action to help both students and educational institutions. The focus is on maximizing graduation rates by constructing a Recommender System to assist students with their selection of subjects. In particular, the challenge is addressed of constructing reliable Recommender Systems on the basis of data which are both sparse and few in quantity, imbalanced, and anonymized, and which might have been stored under imperfect conditions. This approach is successfully applied to create a Recommender System using a real-world dataset from a public Spanish university containing performance data of a Computer Science degree course, demonstrating its successful application in real environments. The construction of a support system based on that approach is described, its results are evaluated, and its implications for students' academic achievement, and for institutions' graduation rates are discussed. Through the construction of this decision support system for students, we intend to increase the graduation rates and lower the dropout rate\"\n",
        "predicted_subject_area = predict_subject_area_saved_model(input_abstract, loaded_model)\n",
        "print(\"Predicted Subject Area/Domain with saved model:\", predicted_subject_area)"
      ],
      "metadata": {
        "colab": {
          "base_uri": "https://localhost:8080/"
        },
        "id": "7o2Cz4UBHULS",
        "outputId": "9d8608cc-e34a-4716-fae2-d55dc02687a1"
      },
      "execution_count": null,
      "outputs": [
        {
          "output_type": "stream",
          "name": "stdout",
          "text": [
            "1/1 [==============================] - 0s 17ms/step\n",
            "Predicted Subject Area/Domain with saved model: ('cs.CV',)\n"
          ]
        }
      ]
    }
  ]
}